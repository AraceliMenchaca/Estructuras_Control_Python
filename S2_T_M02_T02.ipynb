{
 "cells": [
  {
   "cell_type": "markdown",
   "id": "81ed8097",
   "metadata": {},
   "source": [
    "# Sprint 2 "
   ]
  },
  {
   "cell_type": "markdown",
   "id": "cc4694c3",
   "metadata": {},
   "source": [
    "# Tasca M2 T02"
   ]
  },
  {
   "cell_type": "markdown",
   "id": "3dd412c4",
   "metadata": {},
   "source": [
    "## Ejercicio 1"
   ]
  },
  {
   "cell_type": "markdown",
   "id": "ae12ffab",
   "metadata": {},
   "source": [
    "### Crea un programa que clasifique  una variable númerica en función de la escala \"Suspendido\", \"Aprobado\", \"Notable\", \"Excelente\"."
   ]
  },
  {
   "cell_type": "markdown",
   "id": "2313c247",
   "metadata": {},
   "source": [
    "Este es el código para saber la escala de **Suspendido**, **Aprobado**, **Notable**, y **Excelente**.  \n",
    "\n",
    "Para lograr el ```output``` deseado, se definió la función ```clasificación()```.  En esta función el primer paso es pedir al usuario que ingrese un número cualquiera con la función ```input```, lo cual se logra con la variable ```\"n\"```.  Una vez hecho esto, se especifican los valores de la condición ```if```para poder ejecutar la operación de mayor o menor según las instrucciones. "
   ]
  },
  {
   "cell_type": "code",
   "execution_count": 1,
   "id": "32dee2e5",
   "metadata": {},
   "outputs": [],
   "source": [
    "def clasificación():\n",
    "    n = int(input('Ingrese un número:  '))\n",
    "    if n < 5:\n",
    "        print('Suspendido')\n",
    "    elif 5 <= n < 7:\n",
    "        print('Aprobado')\n",
    "    elif 7 <= n < 9:\n",
    "        print('Notable')\n",
    "    elif n >= 9:\n",
    "        print('Excelente')"
   ]
  },
  {
   "cell_type": "markdown",
   "id": "9a477635",
   "metadata": {},
   "source": [
    "A continuación se muestra el ejemplo con un **Suspendido**:"
   ]
  },
  {
   "cell_type": "code",
   "execution_count": 2,
   "id": "9aba060c",
   "metadata": {},
   "outputs": [
    {
     "name": "stdout",
     "output_type": "stream",
     "text": [
      "Ingrese un número:  4\n",
      "Suspendido\n"
     ]
    }
   ],
   "source": [
    "clasificación()"
   ]
  },
  {
   "cell_type": "markdown",
   "id": "354e160e",
   "metadata": {},
   "source": [
    "El siguiente ejemplo es con un **Aprobado**."
   ]
  },
  {
   "cell_type": "code",
   "execution_count": 3,
   "id": "6c49336d",
   "metadata": {},
   "outputs": [
    {
     "name": "stdout",
     "output_type": "stream",
     "text": [
      "Ingrese un número:  6\n",
      "Aprobado\n"
     ]
    }
   ],
   "source": [
    "clasificación()"
   ]
  },
  {
   "cell_type": "markdown",
   "id": "3294a1da",
   "metadata": {},
   "source": [
    "Ahora con un **Notable**:"
   ]
  },
  {
   "cell_type": "code",
   "execution_count": 5,
   "id": "677c4e7b",
   "metadata": {},
   "outputs": [
    {
     "name": "stdout",
     "output_type": "stream",
     "text": [
      "Ingrese un número:  8\n",
      "Notable\n"
     ]
    }
   ],
   "source": [
    "clasificación()"
   ]
  },
  {
   "cell_type": "markdown",
   "id": "e444d06d",
   "metadata": {},
   "source": [
    "Finalmente con un **Excelente**:"
   ]
  },
  {
   "cell_type": "code",
   "execution_count": 6,
   "id": "282c3ef0",
   "metadata": {},
   "outputs": [
    {
     "name": "stdout",
     "output_type": "stream",
     "text": [
      "Ingrese un número:  9\n",
      "Excelente\n"
     ]
    }
   ],
   "source": [
    "clasificación()"
   ]
  },
  {
   "cell_type": "markdown",
   "id": "4a58b809",
   "metadata": {},
   "source": [
    "## Ejercicio 2"
   ]
  },
  {
   "cell_type": "markdown",
   "id": "491189b5",
   "metadata": {},
   "source": [
    "### Crea un programa que te pregunte dos números para después mostrar un mensaje diciendo si el primer número es más grande que el segundo, el segundo es más grande que el primer  o si són iguales."
   ]
  },
  {
   "cell_type": "markdown",
   "id": "e41a0e8a",
   "metadata": {},
   "source": [
    "El siguiente código compara dos números para saber cuál de los dos es mayor o si los dos son iguales.\n",
    "\n",
    "Este código sigue la misma línea que el anterior.  Se definió una función llamada ```comparar_num()``` que anida la condición ```if``` con la diferencia de que hay dos ```inputs``` con la variables ```num_1``` y ```num_2``` solicitando que se ingresen dos números diferentes y así poder saber cual es _mayor_. "
   ]
  },
  {
   "cell_type": "code",
   "execution_count": 7,
   "id": "97ab91ba",
   "metadata": {},
   "outputs": [],
   "source": [
    "def comparar_num():\n",
    "    num_1 = int(input('Ingrese primer número: '))\n",
    "    num_2 = int(input('Ingrese segundo número: '))\n",
    "\n",
    "    if num_1 > num_2:\n",
    "        print('El primer número es mayor que el segundo.')\n",
    "    elif num_1 < num_2:\n",
    "        print('El segundo número es mayor que el primero.')\n",
    "    else: \n",
    "        print('Los dos números son iguales.')"
   ]
  },
  {
   "cell_type": "markdown",
   "id": "1b9daf91",
   "metadata": {},
   "source": [
    "A continuación se llama la función para que _el primer número sea mayor que el segundo_:"
   ]
  },
  {
   "cell_type": "code",
   "execution_count": 8,
   "id": "16b84a6e",
   "metadata": {},
   "outputs": [
    {
     "name": "stdout",
     "output_type": "stream",
     "text": [
      "Ingrese primer número: 8\n",
      "Ingrese segundo número: 3\n",
      "El primer número es mayor que el segundo.\n"
     ]
    }
   ],
   "source": [
    "comparar_num()"
   ]
  },
  {
   "cell_type": "markdown",
   "id": "f648be6e",
   "metadata": {},
   "source": [
    "Aqui llamamos a la función para que _el segundo número sea mayor al primero_:"
   ]
  },
  {
   "cell_type": "code",
   "execution_count": 9,
   "id": "3e3f364e",
   "metadata": {},
   "outputs": [
    {
     "name": "stdout",
     "output_type": "stream",
     "text": [
      "Ingrese primer número: 3\n",
      "Ingrese segundo número: 8\n",
      "El segundo número es mayor que el primero.\n"
     ]
    }
   ],
   "source": [
    "comparar_num()"
   ]
  },
  {
   "cell_type": "markdown",
   "id": "22cc3048",
   "metadata": {},
   "source": [
    "Los dos números _son iguales_:"
   ]
  },
  {
   "cell_type": "code",
   "execution_count": 10,
   "id": "bd571d2a",
   "metadata": {},
   "outputs": [
    {
     "name": "stdout",
     "output_type": "stream",
     "text": [
      "Ingrese primer número: 3\n",
      "Ingrese segundo número: 3\n",
      "Los dos números son iguales.\n"
     ]
    }
   ],
   "source": [
    "comparar_num()"
   ]
  },
  {
   "cell_type": "markdown",
   "id": "f1fccbd5",
   "metadata": {},
   "source": [
    "## Ejercicio 3"
   ]
  },
  {
   "cell_type": "markdown",
   "id": "e9333db3",
   "metadata": {},
   "source": [
    "### Crea un programa que te pregunte tu nombre y te pida un número.  si el número es 0, habrá de mostrar un mensaje de error. En caso contrario, habrá de mostrar el nombre repetido tantas veces como indique el número."
   ]
  },
  {
   "cell_type": "markdown",
   "id": "417b4265",
   "metadata": {},
   "source": [
    "En este código se creo una función para que el nombre se repita tantas veces como la edad.\n",
    "\n",
    "Al igual que los códigos anteriores, se creó una función (```nombre_edad()```) solicitando dos ```inputs``` con dos variables distintas (```nombre``` y ```edad```) y la condición ```if```."
   ]
  },
  {
   "cell_type": "code",
   "execution_count": 11,
   "id": "894f1d38",
   "metadata": {},
   "outputs": [],
   "source": [
    "def nombre_edad():\n",
    "    nombre = input('¿Cuál es tu nombre? ')\n",
    "    edad = int(input('¿Qué edad tienes? '))\n",
    "    nombre_repetido = (nombre * edad) \n",
    "\n",
    "    if edad == 0:\n",
    "        print('Error')\n",
    "    elif nombre_repetido == (nombre * edad):\n",
    "        print(nombre_repetido)"
   ]
  },
  {
   "cell_type": "markdown",
   "id": "e2c8152a",
   "metadata": {},
   "source": [
    "A continución el nombre se repite 43 veces que es la edad introducida:"
   ]
  },
  {
   "cell_type": "code",
   "execution_count": 12,
   "id": "ed56e3f5",
   "metadata": {},
   "outputs": [
    {
     "name": "stdout",
     "output_type": "stream",
     "text": [
      "¿Cuál es tu nombre? Araceli\n",
      "¿Qué edad tienes? 43\n",
      "AraceliAraceliAraceliAraceliAraceliAraceliAraceliAraceliAraceliAraceliAraceliAraceliAraceliAraceliAraceliAraceliAraceliAraceliAraceliAraceliAraceliAraceliAraceliAraceliAraceliAraceliAraceliAraceliAraceliAraceliAraceliAraceliAraceliAraceliAraceliAraceliAraceliAraceliAraceliAraceliAraceliAraceliAraceli\n"
     ]
    }
   ],
   "source": [
    "nombre_edad()"
   ]
  },
  {
   "cell_type": "markdown",
   "id": "4179b318",
   "metadata": {},
   "source": [
    "Aquí se llama a la misma función para que marque error:"
   ]
  },
  {
   "cell_type": "code",
   "execution_count": 13,
   "id": "69760da4",
   "metadata": {},
   "outputs": [
    {
     "name": "stdout",
     "output_type": "stream",
     "text": [
      "¿Cuál es tu nombre? Araceli\n",
      "¿Qué edad tienes? 0\n",
      "Error\n"
     ]
    }
   ],
   "source": [
    "nombre_edad()"
   ]
  },
  {
   "cell_type": "markdown",
   "id": "bcc6aeea",
   "metadata": {},
   "source": [
    "## Ejercicio 4"
   ]
  },
  {
   "cell_type": "markdown",
   "id": "05b70980",
   "metadata": {},
   "source": [
    "### Crea un programa que dada una lista cualquiera, te diga si es simétrica o no. Si lo es, que te diga cuántos elementos tiene la misma."
   ]
  },
  {
   "cell_type": "markdown",
   "id": "39f7029a",
   "metadata": {},
   "source": [
    "Para este ejercicio, se escribió el siguiente código definiendo la función `lista_simétrica()` que dentro del bucle `for`, que establece el parámetro simétrico usando las funciones `range`y `len`. El bucle `for` anida la condición `if` estableciendo los valores necesarios para obtener el resultado deseado."
   ]
  },
  {
   "cell_type": "code",
   "execution_count": 15,
   "id": "e526b4ad",
   "metadata": {},
   "outputs": [],
   "source": [
    "def lista_simetrica(lista_1):\n",
    "    elem_lista = len(lista_1)\n",
    "    for i in range(len(lista_1)//2):\n",
    "        if lista_1[i] != lista_1[-i-1]:\n",
    "            return 'Asimétrica'\n",
    "        return 'Simétrica con ' + str(elem_lista) + ' elementos.'"
   ]
  },
  {
   "cell_type": "markdown",
   "id": "b54563dd",
   "metadata": {},
   "source": [
    "A continuación se proporciona la lista para obtener la respuesta **Asimétrica**."
   ]
  },
  {
   "cell_type": "code",
   "execution_count": 17,
   "id": "99e74aab",
   "metadata": {},
   "outputs": [
    {
     "name": "stdout",
     "output_type": "stream",
     "text": [
      "Asimétrica\n"
     ]
    }
   ],
   "source": [
    "lista_1 = [5, 8, 9, 15, 2]\n",
    "print(lista_simetrica(lista_1))"
   ]
  },
  {
   "cell_type": "markdown",
   "id": "4818ae11",
   "metadata": {},
   "source": [
    "Y aquí la lista al ser **Simétrica** además proporciona el número de elementos."
   ]
  },
  {
   "cell_type": "code",
   "execution_count": 18,
   "id": "58249d3c",
   "metadata": {},
   "outputs": [
    {
     "name": "stdout",
     "output_type": "stream",
     "text": [
      "Simétrica con 7 elementos.\n"
     ]
    }
   ],
   "source": [
    "lista_1 = [1,2,3,4,3,2,1]\n",
    "print(lista_simetrica(lista_1))"
   ]
  },
  {
   "cell_type": "markdown",
   "id": "3898081f",
   "metadata": {},
   "source": [
    "## Ejercicio 5"
   ]
  },
  {
   "cell_type": "markdown",
   "id": "c784f719",
   "metadata": {},
   "source": [
    "### Crea un programa que dada una liste, te diga cuántos números coinciden  con su posición."
   ]
  },
  {
   "cell_type": "markdown",
   "id": "38793d96",
   "metadata": {},
   "source": [
    "El siguiente codigo imprime las coincidencias dentro de una lista y también avisa si no hubiera ninguna.  \n",
    "\n",
    "De la misma forma que el ejercicio 4, la función `coincidencias()` establece un bucle con la función `for`que anida la condición `if`, con la diferencia que no se necesitan funciones adicionales pero si se establece la variable `coincidencia` para dar el valor numérico necesario."
   ]
  },
  {
   "cell_type": "code",
   "execution_count": 31,
   "id": "fe80a9ac",
   "metadata": {},
   "outputs": [],
   "source": [
    "def coincidencias(lista_2):\n",
    "    coincidencia = 0\n",
    "    for elements in range(len(lista_2)):\n",
    "        if elements == lista_2[elements]:\n",
    "            print ('El número ', elements, ' coincide.')\n",
    "            coincidencia += 1\n",
    "    print ('Hay', coincidencia, 'coincidencias.')"
   ]
  },
  {
   "cell_type": "markdown",
   "id": "a539e78b",
   "metadata": {},
   "source": [
    "El siguiente ejemplo es con una lista que contiene varias coincidencias:"
   ]
  },
  {
   "cell_type": "code",
   "execution_count": 32,
   "id": "a34c1b3b",
   "metadata": {},
   "outputs": [
    {
     "name": "stdout",
     "output_type": "stream",
     "text": [
      "El número  0  coincide.\n",
      "El número  1  coincide.\n",
      "El número  2  coincide.\n",
      "El número  3  coincide.\n",
      "El número  4  coincide.\n",
      "Hay 5 coincidencias.\n"
     ]
    }
   ],
   "source": [
    "lista_count = [0,1,2,3,4]\n",
    "coincidencias(lista_count)"
   ]
  },
  {
   "cell_type": "markdown",
   "id": "aa2a9239",
   "metadata": {},
   "source": [
    "Al contrario del siguiente ejemplo en el que no hay ninguna coincidencia:"
   ]
  },
  {
   "cell_type": "code",
   "execution_count": 33,
   "id": "929bf617",
   "metadata": {},
   "outputs": [
    {
     "name": "stdout",
     "output_type": "stream",
     "text": [
      "Hay 0 coincidencias.\n"
     ]
    }
   ],
   "source": [
    "lista_count = [15,2,8,5,9]\n",
    "coincidencias(lista_count)"
   ]
  },
  {
   "cell_type": "markdown",
   "id": "e08a7c0f",
   "metadata": {},
   "source": [
    "# FIN"
   ]
  }
 ],
 "metadata": {
  "hide_input": false,
  "kernelspec": {
   "display_name": "Python 3 (ipykernel)",
   "language": "python",
   "name": "python3"
  },
  "language_info": {
   "codemirror_mode": {
    "name": "ipython",
    "version": 3
   },
   "file_extension": ".py",
   "mimetype": "text/x-python",
   "name": "python",
   "nbconvert_exporter": "python",
   "pygments_lexer": "ipython3",
   "version": "3.9.13"
  }
 },
 "nbformat": 4,
 "nbformat_minor": 5
}
